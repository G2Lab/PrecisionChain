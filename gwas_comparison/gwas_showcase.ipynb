{
 "cells": [
  {
   "cell_type": "code",
   "execution_count": null,
   "metadata": {},
   "outputs": [],
   "source": [
    "\"\"\" \n",
    "This notebook compares the cohort definition and GWAS analysis \n",
    "using our blockchain implmenetation and a standard software \n",
    "\"\"\""
   ]
  },
  {
   "cell_type": "markdown",
   "metadata": {},
   "source": [
    "# STANDARD IMPLEMENTATION"
   ]
  },
  {
   "cell_type": "code",
   "execution_count": null,
   "metadata": {},
   "outputs": [],
   "source": [
    "import warnings\n",
    "warnings.simplefilter(action='ignore')\n",
    "import pandas as pd\n",
    "import numpy as np\n",
    "import  copy"
   ]
  },
  {
   "cell_type": "markdown",
   "metadata": {},
   "source": [
    "## BUILD COHORT - Clinical"
   ]
  },
  {
   "cell_type": "markdown",
   "metadata": {},
   "source": [
    "### Load Clinical data"
   ]
  },
  {
   "cell_type": "markdown",
   "metadata": {},
   "source": []
  },
  {
   "cell_type": "code",
   "execution_count": null,
   "metadata": {},
   "outputs": [],
   "source": [
    "#lOAD THE OMOP TABLES\n",
    "ROOT_DIR = 'ROOT_DIR'\n",
    "hierarchy = pd.read_csv(f'{ROOT_DIR}/omop_concept_ancestor.csv', sep = '\\t')\n",
    "condition = pd.read_csv(f'{ROOT_DIR}/omop_condition_occurrence.txt', sep = '\\t')\n",
    "drug = pd.read_csv(f'{ROOT_DIR}/omop_drug_exposure.txt', sep = '\\t')\n",
    "procedure = pd.read_csv(f'{ROOT_DIR}/omop_procedure_occurrence.txt', sep = '\\t')"
   ]
  },
  {
   "cell_type": "code",
   "execution_count": null,
   "metadata": {},
   "outputs": [],
   "source": [
    "#lOAD THE SELF_REPORT\n",
    "#MUST BE DONE THIS WAY DUE TO ISSUES WITH TOKENIZATION\n",
    "file_path = f'{ROOT_DIR}/anewbury/ADO/self_report_data/ukb675190.txt'\n",
    "with open(file_path, 'r') as file:\n",
    "    lines = []\n",
    "    for line in file:\n",
    "        line = line.strip().split('\\t')\n",
    "        if len(line) < 137:\n",
    "            pad_size = 137-len(line)\n",
    "            line = line + [np.nan for i in range(pad_size)]\n",
    "        lines.append(line)\n",
    "self_report = pd.DataFrame(lines[1:], columns = lines[0])\n",
    "self_report.set_index('eid', inplace = True)"
   ]
  },
  {
   "cell_type": "code",
   "execution_count": null,
   "metadata": {},
   "outputs": [],
   "source": [
    "# All DM condition codes that are not gestional \n",
    "dm_cond_codes = hierarchy['descendant_concept_id'][hierarchy['ancestor_concept_id'] == 201820].unique() # We have to traverse the hierarchy. This is automatically done by the platform\n",
    "gestational_dm_codes = hierarchy['descendant_concept_id'][hierarchy['ancestor_concept_id'] == 4024659].unique() \n",
    "dm_cond_codes = list(set(dm_cond_codes) - set(gestational_dm_codes)) + [201820]\n",
    "dm_concept_count = condition[condition['condition_concept_id'].isin(dm_cond_codes)]['eid'].value_counts() \n",
    "dm_concept = list(dm_concept_count.index)\n",
    "\n",
    "#All oral DM drugs that are not metformin\n",
    "dm_drug_codes = hierarchy['descendant_concept_id'][hierarchy['ancestor_concept_id'] == 21600744].unique() # We have to traverse the hierarchy. This is automatically done by the platform\n",
    "metformin_codes = hierarchy['descendant_concept_id'][hierarchy['ancestor_concept_id'] == 21600745].unique()\n",
    "dm_drug_codes = list(set(dm_drug_codes) - set(metformin_codes)) + [21600744]\n",
    "dm_drug_count = drug[drug['drug_concept_id'].isin(dm_drug_codes)]['eid'].value_counts() \n",
    "dm_drugs = list(dm_drug_count.index)\n",
    "\n",
    "# Self report\n",
    "values_of_interest = ['1220', '1223', '1222']\n",
    "self_report_counts = self_report.isin(values_of_interest).sum(axis = 1)\n",
    "filtered_ids = self_report_counts[self_report_counts >= 1].index.tolist()\n",
    "dm_self_report = [int(i) for i in filtered_ids]\n",
    "\n",
    "# Get DM ids\n",
    "dm_ids = list(set(dm_concept + dm_drugs+ dm_self_report))"
   ]
  },
  {
   "cell_type": "code",
   "execution_count": null,
   "metadata": {},
   "outputs": [],
   "source": [
    "# All CADD codes that is not congenital or radiation\n",
    "cadd_cond_codes = hierarchy['descendant_concept_id'][hierarchy['ancestor_concept_id'] == 317576].unique()\n",
    "exc_cadd_codes = hierarchy['descendant_concept_id'][hierarchy['ancestor_concept_id'].isin([4178321, 4175846, 4119951])].unique()\n",
    "cadd_cond_codes = list(set(cadd_cond_codes) - set(exc_cadd_codes)) + [317576]\n",
    "cadd_concept_count = condition[condition['condition_concept_id'].isin(cadd_cond_codes)]['eid'].value_counts() \n",
    "cadd_concept = list(cadd_concept_count.index)\n",
    "\n",
    "# All CADD procedure\n",
    "cadd_proc_codes = hierarchy['descendant_concept_id'][hierarchy['ancestor_concept_id'] == 4336464].unique()\n",
    "cadd_proc_codes = list(set(cadd_proc_codes)) + [4336464]\n",
    "cadd_proc_count = procedure[procedure['procedure_concept_id'].isin(cadd_proc_codes)]['eid'].value_counts() \n",
    "cadd_proc = list(cadd_proc_count.index)\n",
    "\n",
    "# Self report\n",
    "values_of_interest = ['1074','1075']\n",
    "self_report_counts = self_report.isin(values_of_interest).sum(axis = 1)\n",
    "filtered_ids = self_report_counts[self_report_counts >= 1].index.tolist()\n",
    "cadd_self_report = [int(i) for i in filtered_ids]\n",
    "\n",
    "#CADD ids\n",
    "cadd_ids = set(cadd_concept + cadd_proc + cadd_self_report)\n",
    "cadd_ids = list(cadd_ids.intersection(set(dm_ids)))"
   ]
  },
  {
   "cell_type": "code",
   "execution_count": null,
   "metadata": {},
   "outputs": [],
   "source": [
    "#Create phenotype table\n",
    "dm_df = pd.DataFrame(dm_ids, columns=['eid']) \n",
    "dm_df['phenotype'] = np.where(dm_df['eid'].isin(cadd_ids), 2, 1)\n",
    "phenotype = dm_df"
   ]
  },
  {
   "cell_type": "code",
   "execution_count": null,
   "metadata": {},
   "outputs": [],
   "source": [
    "#Extract demographic information\n",
    "person = pd.read_csv(f'{ROOT_DIR}/omop/omop_person.txt', sep = '\\t')\n",
    "person_cohort = person[person['eid'].isin(phenotype['eid'])]\n",
    "person_cohort = person_cohort[['eid', 'gender_concept_id', 'year_of_birth', 'month_of_birth', 'race_concept_id']]\n",
    "\n",
    "gender_mapping = {8507:1, 8532:2} #0=male, 1=female\n",
    "race_mapping = {8527:'White',38003574:'Asian_indian',38003600:'African', 38003575:'Bangladeshi', 8515:'Asian',38003589:'Pakistani', 38003579:'Chinese', 38003598:'Black'}\n",
    "person_cohort['sex'] = person_cohort['gender_concept_id'].replace(gender_mapping)\n",
    "person_cohort['race'] = person_cohort['race_concept_id'].replace(race_mapping)\n",
    "\n",
    "from datetime import datetime\n",
    "person_cohort['birthdate'] = pd.to_datetime(person_cohort['year_of_birth'].astype(str) + '-' + person_cohort['month_of_birth'].astype(str))\n",
    "reference_date = datetime(2011, 1, 1)\n",
    "person_cohort['age'] = ((reference_date - person_cohort['birthdate']).dt.days / 365.25).astype(int)"
   ]
  },
  {
   "cell_type": "code",
   "execution_count": null,
   "metadata": {},
   "outputs": [],
   "source": [
    "#filter for white patients only\n",
    "person_cohort = person_cohort[person_cohort['race'] == 'White']"
   ]
  },
  {
   "cell_type": "markdown",
   "metadata": {},
   "source": [
    "## BUILD COHORT - GENETIC"
   ]
  },
  {
   "cell_type": "markdown",
   "metadata": {},
   "source": [
    "### Harmonize genetic data"
   ]
  },
  {
   "cell_type": "code",
   "execution_count": null,
   "metadata": {},
   "outputs": [],
   "source": [
    "# We first must identify all patients with sequencing data and the machine used\n",
    "samples = pd.read_csv(f'{ROOT_DIR}/Chr1/chr1.fam', sep= ' ', names = ['eid', 'fid', '0', '1', '2', 'batch'], usecols=['eid', 'batch'])\n",
    "\n",
    "def map_values(value):\n",
    "    if value.startswith('UKBiLEVEAX'):\n",
    "        return 0\n",
    "    elif value.startswith('Batch_b'):\n",
    "        batch_number = int(value.split('_')[1][1:]) \n",
    "        if 1 <= batch_number <= 22:\n",
    "            return 1\n",
    "        elif 23 <= batch_number:\n",
    "            return 2\n",
    "    elif value == 'redacted3':\n",
    "        return \n",
    "    return -1 \n",
    "samples = samples[samples['batch'].isin([0,2])]\n"
   ]
  },
  {
   "cell_type": "code",
   "execution_count": null,
   "metadata": {},
   "outputs": [],
   "source": [
    "#Intersect those that meet all criteria\n",
    "samples_used = list(set(samples['eid']).intersection(set(person_cohort['eid'])))\n",
    "person_cohort = person_cohort[person_cohort['eid'].isin(samples_used)]"
   ]
  },
  {
   "cell_type": "code",
   "execution_count": null,
   "metadata": {},
   "outputs": [],
   "source": [
    "#Create metadata table\n",
    "metadata = phenotype.merge(person_cohort[['eid', 'age', 'sex']], on = 'eid')"
   ]
  },
  {
   "cell_type": "code",
   "execution_count": null,
   "metadata": {},
   "outputs": [],
   "source": [
    "# Wrangle metadata table for PLINK\n",
    "metadata.insert(0, 'family_id', 0)\n",
    "metadata['family_id'] = metadata['eid']"
   ]
  },
  {
   "cell_type": "markdown",
   "metadata": {},
   "source": [
    "### Extract PC's"
   ]
  },
  {
   "cell_type": "code",
   "execution_count": null,
   "metadata": {},
   "outputs": [],
   "source": [
    "# We use preloaded ones here\n",
    "pca = pd.read_csv(f'{ROOT_DIR}/principal_components.csv')\n",
    "pca = pca.apply(lambda x:x.fillna(x.mean()), axis = 0)\n",
    "pca.columns = ['eid', 'PC1', 'PC2', 'PC3', 'PC4']"
   ]
  },
  {
   "cell_type": "markdown",
   "metadata": {},
   "source": [
    "### Create covariates and phenotypes tables for PLINK"
   ]
  },
  {
   "cell_type": "code",
   "execution_count": null,
   "metadata": {},
   "outputs": [],
   "source": [
    "#covariates\n",
    "covars = metadata[['family_id','eid', 'age', 'sex']].merge(pca, on = 'eid')\n",
    "covars.to_csv(f'{ROOT_DIR}/covars.txt', index = False, sep = '\\t')"
   ]
  },
  {
   "cell_type": "code",
   "execution_count": null,
   "metadata": {},
   "outputs": [],
   "source": [
    "#phenotypes\n",
    "pheno = metadata[['family_id', 'eid','phenotype']]\n",
    "pheno.to_csv(f'{ROOT_DIR}/phenotypes.txt', index = False, sep = '\\t', header = False)"
   ]
  },
  {
   "cell_type": "markdown",
   "metadata": {},
   "source": [
    "### PLINK SCRIPT"
   ]
  },
  {
   "cell_type": "code",
   "execution_count": null,
   "metadata": {},
   "outputs": [],
   "source": [
    "# we show the script required to run PLINK which is done on an external tool\n",
    "#  Note we have removed QC steps as this was done prior analysis steps\n",
    "\"\"\" \n",
    "#First convert VCF files to bed file.\n",
    "process() {\n",
    "    file=\"chr_$1\".vcf.gz\n",
    "    bed_file=$(echo \"$file\" | sed 's/.*\\(chr_[0-9]*\\).*/\\1/')\n",
    "    plink --vcf \"$ROOT_DIR/$file\" --make-bed --out \"$ROOT_DIR/$bed_file\" --threads 2\n",
    "}\n",
    "export -f process\n",
    "\n",
    "parallel -j $SLURM_CPUS_PER_TASK process ::: $(seq 1 22)\n",
    "\n",
    "# Merge the datasets\n",
    "plink --merge-list $ROOT_DIR/merge.txt --out $ROOT_DIR/merged\n",
    "\n",
    "# Run GWAS\n",
    "plink --bfile $ROOT_DIR/merged --covar $ROOT_DIR/covars.txt --glm  --out $ROOT_DIR/results \n",
    "\n",
    "#Filter results for the variant data only\n",
    "files=\"${ROOT_DIR}/results.PHENO1.glm.logistic\"\n",
    "awk_cmd=\"awk -F'\\t' '\\$7 == \\\"ADD\\\"' ${files} > ${files}_filtered\"\n",
    "sed_cmd=\"sed -i '1s/^/#CHROM\\\\tPOS\\\\tID\\\\tREF\\\\tALT\\\\tA1\\\\tTEST\\\\tOBS_CT\\\\tBETA\\\\tSE\\\\tT_STAT\\\\tP\\\\n/' ${files}_filtered\"\n",
    "eval $awk_cmd\n",
    "eval $sed_cmd\n",
    "\n",
    "\"\"\""
   ]
  },
  {
   "cell_type": "markdown",
   "metadata": {},
   "source": [
    "# BLOCKCHAIN IMPLEMENTATION"
   ]
  },
  {
   "cell_type": "code",
   "execution_count": null,
   "metadata": {},
   "outputs": [],
   "source": [
    "ROOT_DIR = 'ROOT_DIR'\n",
    "multichainLoc = ''\n",
    "chainName = 'CHAIN'\n",
    "datadir = f'{ROOT_DIR}/multichain'\n",
    "querydir = f'{ROOT_DIR}/code/chain_code'"
   ]
  },
  {
   "cell_type": "code",
   "execution_count": null,
   "metadata": {},
   "outputs": [],
   "source": [
    "# Standard libaries\n",
    "import pandas as pd\n",
    "import json\n",
    "import numpy as np\n",
    "import statsmodels.api as sm\n",
    "import statsmodels.formula.api as smf\n",
    "import sys\n",
    "sys.path.append(f'{querydir}')\n",
    "import warnings\n",
    "warnings.simplefilter(action='ignore', category=FutureWarning)\n",
    "#Network functions\n",
    "from QueryParse import (\n",
    "                        harmonizeMetadata,\n",
    "                        getPCs,\n",
    "                        getAgeGenderRace,\n",
    "                        getPhenotype,\n",
    "                        getVariantDF2,\n",
    "                        runGwas2\n",
    "                          )\n"
   ]
  },
  {
   "attachments": {},
   "cell_type": "markdown",
   "metadata": {},
   "source": [
    "## BUILD COHORT"
   ]
  },
  {
   "attachments": {},
   "cell_type": "markdown",
   "metadata": {},
   "source": [
    "### Harmonize genetic data"
   ]
  },
  {
   "cell_type": "code",
   "execution_count": null,
   "metadata": {},
   "outputs": [],
   "source": [
    "#Search for patients with Affymetrix\n",
    "metadata = 'Affymetrix'\n",
    "meta_ids = harmonizeMetadata(metadata)"
   ]
  },
  {
   "attachments": {},
   "cell_type": "markdown",
   "metadata": {},
   "source": [
    "### EXTRACT PC'S"
   ]
  },
  {
   "cell_type": "code",
   "execution_count": 542,
   "metadata": {},
   "outputs": [],
   "source": [
    "kSearch = 20\n",
    "pc_df = getPCs(meta_ids, kSearch)"
   ]
  },
  {
   "attachments": {},
   "cell_type": "markdown",
   "metadata": {},
   "source": [
    "### Get phenotypes"
   ]
  },
  {
   "attachments": {},
   "cell_type": "markdown",
   "metadata": {},
   "source": [
    "####  Age and gender"
   ]
  },
  {
   "cell_type": "code",
   "execution_count": 544,
   "metadata": {},
   "outputs": [],
   "source": [
    "# Get the age and gender and filter for patients who are race = white\n",
    "demos = getAgeGenderRace(chainName, multichainLoc, datadir)\n",
    "demos = demos[demos['race_concept_id'] == '8527']"
   ]
  },
  {
   "attachments": {},
   "cell_type": "markdown",
   "metadata": {},
   "source": [
    "#### Phenotype of interest"
   ]
  },
  {
   "cell_type": "code",
   "execution_count": 503,
   "metadata": {},
   "outputs": [],
   "source": [
    "## INCLUSION ##\n",
    "#DM diagnosis\n",
    "dm_cond = '201820'\n",
    "dm_id_cond =  getPhenotype(dm_cond)\n",
    "\n",
    "#DM medication\n",
    "dm_drug = '21600744'\n",
    "dm_id_drug=  getPhenotype(dm_drug)\n",
    "\n",
    "#DM self reprot\n",
    "dm_self = '123456789'\n",
    "dm_id_self=  getPhenotype(dm_self)\n",
    "\n",
    "## EXCLUSION ##\n",
    "# Gestational DM\n",
    "gest_dm_cond = '4024659'\n",
    "gest_dm_id_cond =  getPhenotype(gest_dm_cond)\n",
    "\n",
    "# Metformin\n",
    "dm_drug_met = '21600745'\n",
    "dm_id_met=  getPhenotype(dm_drug_met)\n",
    "\n",
    "\n",
    "## CADD PHENOTYPE ##\n",
    "# CADD diagnosis\n",
    "cadd_cond = '317576'\n",
    "cadd_id_cond =  getPhenotype(cadd_cond)\n",
    "\n",
    "# CADD Procedure\n",
    "cadd_proc = '4336464'\n",
    "cadd_id_proc =  getPhenotype(cadd_proc)\n",
    "\n",
    "#CADD self report\n",
    "cadd_self = '23456789'\n",
    "cadd_id_self=  getPhenotype(cadd_self)"
   ]
  },
  {
   "cell_type": "code",
   "execution_count": 510,
   "metadata": {},
   "outputs": [],
   "source": [
    "# Phenotyping logic\n",
    "all_dm_ids = list(set(list(dm_id_drug['person_id']) + list(dm_id_cond['person_id']) + list(dm_id_self['person_id'])) - set(list(gest_dm_id_cond['person_id']) + list(dm_id_met['person_id'])))\n",
    "all_cadd_ids = list(set(list(cadd_id_cond['person_id']) + list(cadd_id_proc['person_id']) + list(cadd_id_self['person_id'])))\n",
    "only_dm_ids = list(set(all_dm_ids) - set(all_cadd_ids))\n",
    "phenotype = pd.DataFrame(all_dm_ids, columns=['eid']) \n",
    "phenotype['phenotype'] = np.where(phenotype['eid'].isin(all_cadd_ids), 2, 1)\n",
    "phenos = phenotype.set_index('eid')"
   ]
  },
  {
   "attachments": {},
   "cell_type": "markdown",
   "metadata": {},
   "source": [
    "### EXTRACT GENOTYPE INFORMATION"
   ]
  },
  {
   "cell_type": "code",
   "execution_count": null,
   "metadata": {},
   "outputs": [],
   "source": [
    "chroms = [i for i in range(1,23)]\n",
    "variants_df = pd.DataFrame()\n",
    "for chrom in chroms:\n",
    "    genotype = 'all'\n",
    "    metadata = None\n",
    "    variants_df_chrom = getVariantDF2(chrom, variants = 'all', genotype = 'all', metadata = None)\n",
    "    variants_df  = pd.concat([variants_df, variants_df_chrom],  axis = 1)"
   ]
  },
  {
   "attachments": {},
   "cell_type": "markdown",
   "metadata": {},
   "source": [
    "### RUN GWAS"
   ]
  },
  {
   "cell_type": "code",
   "execution_count": null,
   "metadata": {},
   "outputs": [],
   "source": [
    "results = runGwas2(pc_df, phenos, demos, variants_df)\n",
    "results"
   ]
  }
 ],
 "metadata": {
  "kernelspec": {
   "display_name": "Python 3",
   "language": "python",
   "name": "python3"
  },
  "orig_nbformat": 4
 },
 "nbformat": 4,
 "nbformat_minor": 2
}
